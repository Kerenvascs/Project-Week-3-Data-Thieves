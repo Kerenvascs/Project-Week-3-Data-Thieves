{
 "cells": [
  {
   "cell_type": "code",
   "execution_count": 1,
   "metadata": {},
   "outputs": [],
   "source": [
    "import pandas as pd\n",
    "import numpy as np\n",
    "import requests\n",
    "from pandas.io.json import json_normalize\n",
    "from flatten_json import flatten\n",
    "from datetime import date"
   ]
  },
  {
   "cell_type": "markdown",
   "metadata": {},
   "source": [
    "# Requesting data"
   ]
  },
  {
   "cell_type": "markdown",
   "metadata": {},
   "source": [
    "# Santiago - CL"
   ]
  },
  {
   "cell_type": "code",
   "execution_count": 21,
   "metadata": {},
   "outputs": [
    {
     "data": {
      "text/plain": [
       "(0, 1)"
      ]
     },
     "execution_count": 21,
     "metadata": {},
     "output_type": "execute_result"
    }
   ],
   "source": [
    "begin = date(2020,3,1)\n",
    "end = date(2020,3,31)\n",
    "\n",
    "api_string = \"https://api.openaq.org/v1/measurements?city={city}&parameter={measure}&date_from={fromdate}&date_to={todate}&limit=5000\"\n",
    "city = \"Santiago\"\n",
    "measure = \"so2\"\n",
    "\n",
    "response = requests.get(api_string.format(city=city,measure=measure,fromdate=begin,todate=end)).json()\n",
    "response\n",
    "\n",
    "dic_flatten = [flatten(d) for d in response['results']]\n",
    "dic_flatten\n",
    "santiago_3 = pd.DataFrame(dic_flatten).reset_index()\n",
    "santiago_3.head()\n",
    "santiago_3.shape"
   ]
  },
  {
   "cell_type": "code",
   "execution_count": 22,
   "metadata": {},
   "outputs": [
    {
     "data": {
      "text/html": [
       "<div>\n",
       "<style scoped>\n",
       "    .dataframe tbody tr th:only-of-type {\n",
       "        vertical-align: middle;\n",
       "    }\n",
       "\n",
       "    .dataframe tbody tr th {\n",
       "        vertical-align: top;\n",
       "    }\n",
       "\n",
       "    .dataframe thead th {\n",
       "        text-align: right;\n",
       "    }\n",
       "</style>\n",
       "<table border=\"1\" class=\"dataframe\">\n",
       "  <thead>\n",
       "    <tr style=\"text-align: right;\">\n",
       "      <th></th>\n",
       "      <th>index</th>\n",
       "    </tr>\n",
       "  </thead>\n",
       "  <tbody>\n",
       "  </tbody>\n",
       "</table>\n",
       "</div>"
      ],
      "text/plain": [
       "Empty DataFrame\n",
       "Columns: [index]\n",
       "Index: []"
      ]
     },
     "execution_count": 22,
     "metadata": {},
     "output_type": "execute_result"
    }
   ],
   "source": [
    "# Feb\n",
    "begin = date(2020,2,1)\n",
    "end = date(2020,2,29)\n",
    "\n",
    "api_string = \"https://api.openaq.org/v1/measurements?city={city}&parameter={measure}&date_from={fromdate}&date_to={todate}&limit=5000\"\n",
    "city = \"Santiago\"\n",
    "measure = \"so2\"\n",
    "\n",
    "response = requests.get(api_string.format(city=city,measure=measure,fromdate=begin,todate=end)).json()\n",
    "response\n",
    "\n",
    "dic_flatten = [flatten(d) for d in response['results']]\n",
    "dic_flatten\n",
    "santiago_2 = pd.DataFrame(dic_flatten).reset_index()\n",
    "santiago_2.head()\n",
    "# santiago_2.shape"
   ]
  },
  {
   "cell_type": "markdown",
   "metadata": {},
   "source": [
    "## Madrid - ES"
   ]
  },
  {
   "cell_type": "code",
   "execution_count": 4,
   "metadata": {},
   "outputs": [
    {
     "data": {
      "text/html": [
       "<div>\n",
       "<style scoped>\n",
       "    .dataframe tbody tr th:only-of-type {\n",
       "        vertical-align: middle;\n",
       "    }\n",
       "\n",
       "    .dataframe tbody tr th {\n",
       "        vertical-align: top;\n",
       "    }\n",
       "\n",
       "    .dataframe thead th {\n",
       "        text-align: right;\n",
       "    }\n",
       "</style>\n",
       "<table border=\"1\" class=\"dataframe\">\n",
       "  <thead>\n",
       "    <tr style=\"text-align: right;\">\n",
       "      <th></th>\n",
       "      <th>index</th>\n",
       "      <th>city</th>\n",
       "      <th>coordinates_latitude</th>\n",
       "      <th>coordinates_longitude</th>\n",
       "      <th>country</th>\n",
       "      <th>date_local</th>\n",
       "      <th>date_utc</th>\n",
       "      <th>location</th>\n",
       "      <th>parameter</th>\n",
       "      <th>unit</th>\n",
       "      <th>value</th>\n",
       "    </tr>\n",
       "  </thead>\n",
       "  <tbody>\n",
       "    <tr>\n",
       "      <th>0</th>\n",
       "      <td>0</td>\n",
       "      <td>Madrid</td>\n",
       "      <td>40.63389</td>\n",
       "      <td>-4.01333</td>\n",
       "      <td>ES</td>\n",
       "      <td>2020-03-30T03:00:00+02:00</td>\n",
       "      <td>2020-03-30T01:00:00.000Z</td>\n",
       "      <td>ES1803A</td>\n",
       "      <td>so2</td>\n",
       "      <td>µg/m³</td>\n",
       "      <td>1</td>\n",
       "    </tr>\n",
       "    <tr>\n",
       "      <th>1</th>\n",
       "      <td>1</td>\n",
       "      <td>Madrid</td>\n",
       "      <td>40.25194</td>\n",
       "      <td>-4.27472</td>\n",
       "      <td>ES</td>\n",
       "      <td>2020-03-30T03:00:00+02:00</td>\n",
       "      <td>2020-03-30T01:00:00.000Z</td>\n",
       "      <td>ES1810A</td>\n",
       "      <td>so2</td>\n",
       "      <td>µg/m³</td>\n",
       "      <td>1</td>\n",
       "    </tr>\n",
       "    <tr>\n",
       "      <th>2</th>\n",
       "      <td>2</td>\n",
       "      <td>Madrid</td>\n",
       "      <td>40.91028</td>\n",
       "      <td>-3.46667</td>\n",
       "      <td>ES</td>\n",
       "      <td>2020-03-30T03:00:00+02:00</td>\n",
       "      <td>2020-03-30T01:00:00.000Z</td>\n",
       "      <td>ES1802A</td>\n",
       "      <td>so2</td>\n",
       "      <td>µg/m³</td>\n",
       "      <td>1</td>\n",
       "    </tr>\n",
       "    <tr>\n",
       "      <th>3</th>\n",
       "      <td>3</td>\n",
       "      <td>Madrid</td>\n",
       "      <td>40.47917</td>\n",
       "      <td>-3.37778</td>\n",
       "      <td>ES</td>\n",
       "      <td>2020-03-30T03:00:00+02:00</td>\n",
       "      <td>2020-03-30T01:00:00.000Z</td>\n",
       "      <td>ES1563A</td>\n",
       "      <td>so2</td>\n",
       "      <td>µg/m³</td>\n",
       "      <td>3</td>\n",
       "    </tr>\n",
       "    <tr>\n",
       "      <th>4</th>\n",
       "      <td>4</td>\n",
       "      <td>Madrid</td>\n",
       "      <td>40.32417</td>\n",
       "      <td>-3.87639</td>\n",
       "      <td>ES</td>\n",
       "      <td>2020-03-30T03:00:00+02:00</td>\n",
       "      <td>2020-03-30T01:00:00.000Z</td>\n",
       "      <td>ES1568A</td>\n",
       "      <td>so2</td>\n",
       "      <td>µg/m³</td>\n",
       "      <td>1</td>\n",
       "    </tr>\n",
       "  </tbody>\n",
       "</table>\n",
       "</div>"
      ],
      "text/plain": [
       "   index    city  coordinates_latitude  coordinates_longitude country  \\\n",
       "0      0  Madrid              40.63389               -4.01333      ES   \n",
       "1      1  Madrid              40.25194               -4.27472      ES   \n",
       "2      2  Madrid              40.91028               -3.46667      ES   \n",
       "3      3  Madrid              40.47917               -3.37778      ES   \n",
       "4      4  Madrid              40.32417               -3.87639      ES   \n",
       "\n",
       "                  date_local                  date_utc location parameter  \\\n",
       "0  2020-03-30T03:00:00+02:00  2020-03-30T01:00:00.000Z  ES1803A       so2   \n",
       "1  2020-03-30T03:00:00+02:00  2020-03-30T01:00:00.000Z  ES1810A       so2   \n",
       "2  2020-03-30T03:00:00+02:00  2020-03-30T01:00:00.000Z  ES1802A       so2   \n",
       "3  2020-03-30T03:00:00+02:00  2020-03-30T01:00:00.000Z  ES1563A       so2   \n",
       "4  2020-03-30T03:00:00+02:00  2020-03-30T01:00:00.000Z  ES1568A       so2   \n",
       "\n",
       "    unit  value  \n",
       "0  µg/m³      1  \n",
       "1  µg/m³      1  \n",
       "2  µg/m³      1  \n",
       "3  µg/m³      3  \n",
       "4  µg/m³      1  "
      ]
     },
     "execution_count": 4,
     "metadata": {},
     "output_type": "execute_result"
    }
   ],
   "source": [
    "# Madrid\n",
    "begin = date(2020,3,1)\n",
    "end = date(2020,3,31)\n",
    "\n",
    "api_string = \"https://api.openaq.org/v1/measurements?city={city}&parameter={measure}&date_from={fromdate}&date_to={todate}&limit=5000\"\n",
    "city = \"Madrid\"\n",
    "measure = \"so2\"\n",
    "\n",
    "response = requests.get(api_string.format(city=city,measure=measure,fromdate=begin,todate=end)).json()\n",
    "response\n",
    "\n",
    "dic_flatten = [flatten(d) for d in response['results']]\n",
    "dic_flatten\n",
    "madrid_3 = pd.DataFrame(dic_flatten).reset_index()\n",
    "madrid_3.head()"
   ]
  },
  {
   "cell_type": "code",
   "execution_count": 5,
   "metadata": {},
   "outputs": [
    {
     "data": {
      "text/plain": [
       "(5000, 11)"
      ]
     },
     "execution_count": 5,
     "metadata": {},
     "output_type": "execute_result"
    }
   ],
   "source": [
    "madrid_3.shape"
   ]
  },
  {
   "cell_type": "code",
   "execution_count": 6,
   "metadata": {},
   "outputs": [
    {
     "data": {
      "text/html": [
       "<div>\n",
       "<style scoped>\n",
       "    .dataframe tbody tr th:only-of-type {\n",
       "        vertical-align: middle;\n",
       "    }\n",
       "\n",
       "    .dataframe tbody tr th {\n",
       "        vertical-align: top;\n",
       "    }\n",
       "\n",
       "    .dataframe thead th {\n",
       "        text-align: right;\n",
       "    }\n",
       "</style>\n",
       "<table border=\"1\" class=\"dataframe\">\n",
       "  <thead>\n",
       "    <tr style=\"text-align: right;\">\n",
       "      <th></th>\n",
       "      <th>index</th>\n",
       "      <th>city</th>\n",
       "      <th>coordinates_latitude</th>\n",
       "      <th>coordinates_longitude</th>\n",
       "      <th>country</th>\n",
       "      <th>date_local</th>\n",
       "      <th>date_utc</th>\n",
       "      <th>location</th>\n",
       "      <th>parameter</th>\n",
       "      <th>unit</th>\n",
       "      <th>value</th>\n",
       "    </tr>\n",
       "  </thead>\n",
       "  <tbody>\n",
       "    <tr>\n",
       "      <th>0</th>\n",
       "      <td>0</td>\n",
       "      <td>Madrid</td>\n",
       "      <td>40.408056</td>\n",
       "      <td>-3.645278</td>\n",
       "      <td>ES</td>\n",
       "      <td>2020-02-29T01:00:00+01:00</td>\n",
       "      <td>2020-02-29T00:00:00.000Z</td>\n",
       "      <td>ES1426A</td>\n",
       "      <td>so2</td>\n",
       "      <td>µg/m³</td>\n",
       "      <td>10</td>\n",
       "    </tr>\n",
       "    <tr>\n",
       "      <th>1</th>\n",
       "      <td>1</td>\n",
       "      <td>Madrid</td>\n",
       "      <td>40.633890</td>\n",
       "      <td>-4.013330</td>\n",
       "      <td>ES</td>\n",
       "      <td>2020-02-29T01:00:00+01:00</td>\n",
       "      <td>2020-02-29T00:00:00.000Z</td>\n",
       "      <td>ES1803A</td>\n",
       "      <td>so2</td>\n",
       "      <td>µg/m³</td>\n",
       "      <td>2</td>\n",
       "    </tr>\n",
       "    <tr>\n",
       "      <th>2</th>\n",
       "      <td>2</td>\n",
       "      <td>Madrid</td>\n",
       "      <td>40.910280</td>\n",
       "      <td>-3.466670</td>\n",
       "      <td>ES</td>\n",
       "      <td>2020-02-29T01:00:00+01:00</td>\n",
       "      <td>2020-02-29T00:00:00.000Z</td>\n",
       "      <td>ES1802A</td>\n",
       "      <td>so2</td>\n",
       "      <td>µg/m³</td>\n",
       "      <td>1</td>\n",
       "    </tr>\n",
       "    <tr>\n",
       "      <th>3</th>\n",
       "      <td>3</td>\n",
       "      <td>Madrid</td>\n",
       "      <td>40.324170</td>\n",
       "      <td>-3.876390</td>\n",
       "      <td>ES</td>\n",
       "      <td>2020-02-29T01:00:00+01:00</td>\n",
       "      <td>2020-02-29T00:00:00.000Z</td>\n",
       "      <td>ES1568A</td>\n",
       "      <td>so2</td>\n",
       "      <td>µg/m³</td>\n",
       "      <td>2</td>\n",
       "    </tr>\n",
       "    <tr>\n",
       "      <th>4</th>\n",
       "      <td>4</td>\n",
       "      <td>Madrid</td>\n",
       "      <td>40.251940</td>\n",
       "      <td>-4.274720</td>\n",
       "      <td>ES</td>\n",
       "      <td>2020-02-29T01:00:00+01:00</td>\n",
       "      <td>2020-02-29T00:00:00.000Z</td>\n",
       "      <td>ES1810A</td>\n",
       "      <td>so2</td>\n",
       "      <td>µg/m³</td>\n",
       "      <td>1</td>\n",
       "    </tr>\n",
       "  </tbody>\n",
       "</table>\n",
       "</div>"
      ],
      "text/plain": [
       "   index    city  coordinates_latitude  coordinates_longitude country  \\\n",
       "0      0  Madrid             40.408056              -3.645278      ES   \n",
       "1      1  Madrid             40.633890              -4.013330      ES   \n",
       "2      2  Madrid             40.910280              -3.466670      ES   \n",
       "3      3  Madrid             40.324170              -3.876390      ES   \n",
       "4      4  Madrid             40.251940              -4.274720      ES   \n",
       "\n",
       "                  date_local                  date_utc location parameter  \\\n",
       "0  2020-02-29T01:00:00+01:00  2020-02-29T00:00:00.000Z  ES1426A       so2   \n",
       "1  2020-02-29T01:00:00+01:00  2020-02-29T00:00:00.000Z  ES1803A       so2   \n",
       "2  2020-02-29T01:00:00+01:00  2020-02-29T00:00:00.000Z  ES1802A       so2   \n",
       "3  2020-02-29T01:00:00+01:00  2020-02-29T00:00:00.000Z  ES1568A       so2   \n",
       "4  2020-02-29T01:00:00+01:00  2020-02-29T00:00:00.000Z  ES1810A       so2   \n",
       "\n",
       "    unit  value  \n",
       "0  µg/m³     10  \n",
       "1  µg/m³      2  \n",
       "2  µg/m³      1  \n",
       "3  µg/m³      2  \n",
       "4  µg/m³      1  "
      ]
     },
     "execution_count": 6,
     "metadata": {},
     "output_type": "execute_result"
    }
   ],
   "source": [
    "# Fevereiro\n",
    "begin = date(2020,2,1)\n",
    "end = date(2020,2,29)\n",
    "\n",
    "api_string = \"https://api.openaq.org/v1/measurements?city={city}&parameter={measure}&date_from={fromdate}&date_to={todate}&limit=5000\"\n",
    "city = \"Madrid\"\n",
    "measure = \"so2\"\n",
    "\n",
    "response = requests.get(api_string.format(city=city,measure=measure,fromdate=begin,todate=end)).json()\n",
    "response\n",
    "\n",
    "dic_flatten = [flatten(d) for d in response['results']]\n",
    "dic_flatten\n",
    "madrid_2 = pd.DataFrame(dic_flatten).reset_index()\n",
    "madrid_2.head()"
   ]
  },
  {
   "cell_type": "code",
   "execution_count": 7,
   "metadata": {},
   "outputs": [
    {
     "data": {
      "text/plain": [
       "(5000, 11)"
      ]
     },
     "execution_count": 7,
     "metadata": {},
     "output_type": "execute_result"
    }
   ],
   "source": [
    "madrid_2.shape"
   ]
  },
  {
   "cell_type": "markdown",
   "metadata": {},
   "source": [
    "## Dheli - India"
   ]
  },
  {
   "cell_type": "code",
   "execution_count": 8,
   "metadata": {
    "scrolled": true
   },
   "outputs": [
    {
     "data": {
      "text/plain": [
       "(5000, 11)"
      ]
     },
     "execution_count": 8,
     "metadata": {},
     "output_type": "execute_result"
    }
   ],
   "source": [
    "begin = date(2020,3,1)\n",
    "end = date(2020,3,31)\n",
    "\n",
    "api_string = \"https://api.openaq.org/v1/measurements?city={city}&parameter={measure}&date_from={fromdate}&date_to={todate}&limit=5000\"\n",
    "city = \"Delhi\"\n",
    "measure = \"so2\"\n",
    "\n",
    "response = requests.get(api_string.format(city=city,measure=measure,fromdate=begin,todate=end)).json()\n",
    "response\n",
    "\n",
    "dic_flatten = [flatten(d) for d in response['results']]\n",
    "dic_flatten\n",
    "dheli_3 = pd.DataFrame(dic_flatten).reset_index()\n",
    "dheli_3.head()\n",
    "dheli_3.shape"
   ]
  },
  {
   "cell_type": "code",
   "execution_count": 9,
   "metadata": {},
   "outputs": [
    {
     "data": {
      "text/plain": [
       "(5000, 11)"
      ]
     },
     "execution_count": 9,
     "metadata": {},
     "output_type": "execute_result"
    }
   ],
   "source": [
    "begin = date(2020,2,1)\n",
    "end = date(2020,2,29)\n",
    "\n",
    "api_string = \"https://api.openaq.org/v1/measurements?city={city}&parameter={measure}&date_from={fromdate}&date_to={todate}&limit=5000\"\n",
    "city = \"Delhi\"\n",
    "measure = \"so2\"\n",
    "\n",
    "response = requests.get(api_string.format(city=city,measure=measure,fromdate=begin,todate=end)).json()\n",
    "response\n",
    "\n",
    "dic_flatten = [flatten(d) for d in response['results']]\n",
    "dic_flatten\n",
    "dheli_2 = pd.DataFrame(dic_flatten).reset_index()\n",
    "dheli_2.head()\n",
    "dheli_2.shape"
   ]
  },
  {
   "cell_type": "markdown",
   "metadata": {},
   "source": [
    "## Lisbon - PT"
   ]
  },
  {
   "cell_type": "code",
   "execution_count": 10,
   "metadata": {},
   "outputs": [
    {
     "data": {
      "text/plain": [
       "(1836, 11)"
      ]
     },
     "execution_count": 10,
     "metadata": {},
     "output_type": "execute_result"
    }
   ],
   "source": [
    "begin = date(2020,3,1)\n",
    "end = date(2020,3,31)\n",
    "\n",
    "api_string = \"https://api.openaq.org/v1/measurements?city={city}&parameter={measure}&date_from={fromdate}&date_to={todate}&limit=5000\"\n",
    "city = \"Lisboa\"\n",
    "measure = \"so2\"\n",
    "\n",
    "response = requests.get(api_string.format(city=city,measure=measure,fromdate=begin,todate=end)).json()\n",
    "response\n",
    "\n",
    "dic_flatten = [flatten(d) for d in response['results']]\n",
    "dic_flatten\n",
    "lisbon_3 = pd.DataFrame(dic_flatten).reset_index()\n",
    "lisbon_3.head()\n",
    "lisbon_3.shape"
   ]
  },
  {
   "cell_type": "code",
   "execution_count": 11,
   "metadata": {},
   "outputs": [
    {
     "data": {
      "text/plain": [
       "(2199, 11)"
      ]
     },
     "execution_count": 11,
     "metadata": {},
     "output_type": "execute_result"
    }
   ],
   "source": [
    "begin = date(2020,2,1)\n",
    "end = date(2020,2,29)\n",
    "\n",
    "api_string = \"https://api.openaq.org/v1/measurements?city={city}&parameter={measure}&date_from={fromdate}&date_to={todate}&limit=5000\"\n",
    "city = \"Lisboa\"\n",
    "measure = \"so2\"\n",
    "\n",
    "response = requests.get(api_string.format(city=city,measure=measure,fromdate=begin,todate=end)).json()\n",
    "response\n",
    "\n",
    "dic_flatten = [flatten(d) for d in response['results']]\n",
    "dic_flatten\n",
    "lisbon_2 = pd.DataFrame(dic_flatten).reset_index()\n",
    "lisbon_2.head()\n",
    "lisbon_2.shape"
   ]
  },
  {
   "cell_type": "markdown",
   "metadata": {},
   "source": [
    "## New York - US"
   ]
  },
  {
   "cell_type": "code",
   "execution_count": 12,
   "metadata": {},
   "outputs": [
    {
     "data": {
      "text/html": [
       "<div>\n",
       "<style scoped>\n",
       "    .dataframe tbody tr th:only-of-type {\n",
       "        vertical-align: middle;\n",
       "    }\n",
       "\n",
       "    .dataframe tbody tr th {\n",
       "        vertical-align: top;\n",
       "    }\n",
       "\n",
       "    .dataframe thead th {\n",
       "        text-align: right;\n",
       "    }\n",
       "</style>\n",
       "<table border=\"1\" class=\"dataframe\">\n",
       "  <thead>\n",
       "    <tr style=\"text-align: right;\">\n",
       "      <th></th>\n",
       "      <th>index</th>\n",
       "      <th>city</th>\n",
       "      <th>coordinates_latitude</th>\n",
       "      <th>coordinates_longitude</th>\n",
       "      <th>country</th>\n",
       "      <th>date_local</th>\n",
       "      <th>date_utc</th>\n",
       "      <th>location</th>\n",
       "      <th>parameter</th>\n",
       "      <th>unit</th>\n",
       "      <th>value</th>\n",
       "    </tr>\n",
       "  </thead>\n",
       "  <tbody>\n",
       "    <tr>\n",
       "      <th>0</th>\n",
       "      <td>0</td>\n",
       "      <td>New York-Northern New Jersey-Long Island</td>\n",
       "      <td>40.731689</td>\n",
       "      <td>-74.066566</td>\n",
       "      <td>US</td>\n",
       "      <td>2020-02-28T19:00:00-05:00</td>\n",
       "      <td>2020-02-29T00:00:00.000Z</td>\n",
       "      <td>Jersey City</td>\n",
       "      <td>so2</td>\n",
       "      <td>ppm</td>\n",
       "      <td>0.0</td>\n",
       "    </tr>\n",
       "    <tr>\n",
       "      <th>1</th>\n",
       "      <td>1</td>\n",
       "      <td>New York-Northern New Jersey-Long Island</td>\n",
       "      <td>40.641441</td>\n",
       "      <td>-74.208366</td>\n",
       "      <td>US</td>\n",
       "      <td>2020-02-28T19:00:00-05:00</td>\n",
       "      <td>2020-02-29T00:00:00.000Z</td>\n",
       "      <td>Elizabeth Trailer</td>\n",
       "      <td>so2</td>\n",
       "      <td>ppm</td>\n",
       "      <td>0.0</td>\n",
       "    </tr>\n",
       "    <tr>\n",
       "      <th>2</th>\n",
       "      <td>2</td>\n",
       "      <td>New York-Northern New Jersey-Long Island</td>\n",
       "      <td>40.720989</td>\n",
       "      <td>-74.192894</td>\n",
       "      <td>US</td>\n",
       "      <td>2020-02-28T19:00:00-05:00</td>\n",
       "      <td>2020-02-29T00:00:00.000Z</td>\n",
       "      <td>Newark Firehouse</td>\n",
       "      <td>so2</td>\n",
       "      <td>ppm</td>\n",
       "      <td>0.0</td>\n",
       "    </tr>\n",
       "    <tr>\n",
       "      <th>3</th>\n",
       "      <td>3</td>\n",
       "      <td>New York-Northern New Jersey-Long Island</td>\n",
       "      <td>40.670250</td>\n",
       "      <td>-74.126083</td>\n",
       "      <td>US</td>\n",
       "      <td>2020-02-28T19:00:00-05:00</td>\n",
       "      <td>2020-02-29T00:00:00.000Z</td>\n",
       "      <td>Bayonne</td>\n",
       "      <td>so2</td>\n",
       "      <td>ppm</td>\n",
       "      <td>0.0</td>\n",
       "    </tr>\n",
       "    <tr>\n",
       "      <th>4</th>\n",
       "      <td>4</td>\n",
       "      <td>New York-Northern New Jersey-Long Island</td>\n",
       "      <td>40.787628</td>\n",
       "      <td>-74.676300</td>\n",
       "      <td>US</td>\n",
       "      <td>2020-02-28T19:00:00-05:00</td>\n",
       "      <td>2020-02-29T00:00:00.000Z</td>\n",
       "      <td>Chester</td>\n",
       "      <td>so2</td>\n",
       "      <td>ppm</td>\n",
       "      <td>0.0</td>\n",
       "    </tr>\n",
       "  </tbody>\n",
       "</table>\n",
       "</div>"
      ],
      "text/plain": [
       "   index                                      city  coordinates_latitude  \\\n",
       "0      0  New York-Northern New Jersey-Long Island             40.731689   \n",
       "1      1  New York-Northern New Jersey-Long Island             40.641441   \n",
       "2      2  New York-Northern New Jersey-Long Island             40.720989   \n",
       "3      3  New York-Northern New Jersey-Long Island             40.670250   \n",
       "4      4  New York-Northern New Jersey-Long Island             40.787628   \n",
       "\n",
       "   coordinates_longitude country                 date_local  \\\n",
       "0             -74.066566      US  2020-02-28T19:00:00-05:00   \n",
       "1             -74.208366      US  2020-02-28T19:00:00-05:00   \n",
       "2             -74.192894      US  2020-02-28T19:00:00-05:00   \n",
       "3             -74.126083      US  2020-02-28T19:00:00-05:00   \n",
       "4             -74.676300      US  2020-02-28T19:00:00-05:00   \n",
       "\n",
       "                   date_utc           location parameter unit  value  \n",
       "0  2020-02-29T00:00:00.000Z        Jersey City       so2  ppm    0.0  \n",
       "1  2020-02-29T00:00:00.000Z  Elizabeth Trailer       so2  ppm    0.0  \n",
       "2  2020-02-29T00:00:00.000Z   Newark Firehouse       so2  ppm    0.0  \n",
       "3  2020-02-29T00:00:00.000Z            Bayonne       so2  ppm    0.0  \n",
       "4  2020-02-29T00:00:00.000Z            Chester       so2  ppm    0.0  "
      ]
     },
     "execution_count": 12,
     "metadata": {},
     "output_type": "execute_result"
    }
   ],
   "source": [
    "begin = date(2020,2,1)\n",
    "end = date(2020,2,29)\n",
    "\n",
    "api_string = \"https://api.openaq.org/v1/measurements?city={city}&parameter={measure}&date_from={fromdate}&date_to={todate}&limit=5000\"\n",
    "city = \"New York-Northern New Jersey-Long Island\"\n",
    "measure = \"so2\"\n",
    "\n",
    "response = requests.get(api_string.format(city=city,measure=measure,fromdate=begin,todate=end)).json()\n",
    "response\n",
    "\n",
    "dic_flatten = [flatten(d) for d in response['results']]\n",
    "dic_flatten\n",
    "new_york_2 = pd.DataFrame(dic_flatten).reset_index()\n",
    "new_york_2.head()\n",
    "# new_york_2.shape"
   ]
  },
  {
   "cell_type": "code",
   "execution_count": 13,
   "metadata": {},
   "outputs": [
    {
     "data": {
      "text/html": [
       "<div>\n",
       "<style scoped>\n",
       "    .dataframe tbody tr th:only-of-type {\n",
       "        vertical-align: middle;\n",
       "    }\n",
       "\n",
       "    .dataframe tbody tr th {\n",
       "        vertical-align: top;\n",
       "    }\n",
       "\n",
       "    .dataframe thead th {\n",
       "        text-align: right;\n",
       "    }\n",
       "</style>\n",
       "<table border=\"1\" class=\"dataframe\">\n",
       "  <thead>\n",
       "    <tr style=\"text-align: right;\">\n",
       "      <th></th>\n",
       "      <th>index</th>\n",
       "      <th>city</th>\n",
       "      <th>coordinates_latitude</th>\n",
       "      <th>coordinates_longitude</th>\n",
       "      <th>country</th>\n",
       "      <th>date_local</th>\n",
       "      <th>date_utc</th>\n",
       "      <th>location</th>\n",
       "      <th>parameter</th>\n",
       "      <th>unit</th>\n",
       "      <th>value</th>\n",
       "    </tr>\n",
       "  </thead>\n",
       "  <tbody>\n",
       "    <tr>\n",
       "      <th>0</th>\n",
       "      <td>0</td>\n",
       "      <td>New York-Northern New Jersey-Long Island</td>\n",
       "      <td>40.641441</td>\n",
       "      <td>-74.208366</td>\n",
       "      <td>US</td>\n",
       "      <td>2020-03-30T19:00:00-05:00</td>\n",
       "      <td>2020-03-31T00:00:00.000Z</td>\n",
       "      <td>Elizabeth Trailer</td>\n",
       "      <td>so2</td>\n",
       "      <td>ppm</td>\n",
       "      <td>0.000</td>\n",
       "    </tr>\n",
       "    <tr>\n",
       "      <th>1</th>\n",
       "      <td>1</td>\n",
       "      <td>New York-Northern New Jersey-Long Island</td>\n",
       "      <td>40.731689</td>\n",
       "      <td>-74.066566</td>\n",
       "      <td>US</td>\n",
       "      <td>2020-03-30T19:00:00-05:00</td>\n",
       "      <td>2020-03-31T00:00:00.000Z</td>\n",
       "      <td>Jersey City</td>\n",
       "      <td>so2</td>\n",
       "      <td>ppm</td>\n",
       "      <td>0.001</td>\n",
       "    </tr>\n",
       "    <tr>\n",
       "      <th>2</th>\n",
       "      <td>2</td>\n",
       "      <td>New York-Northern New Jersey-Long Island</td>\n",
       "      <td>40.670250</td>\n",
       "      <td>-74.126083</td>\n",
       "      <td>US</td>\n",
       "      <td>2020-03-30T19:00:00-05:00</td>\n",
       "      <td>2020-03-31T00:00:00.000Z</td>\n",
       "      <td>Bayonne</td>\n",
       "      <td>so2</td>\n",
       "      <td>ppm</td>\n",
       "      <td>0.000</td>\n",
       "    </tr>\n",
       "    <tr>\n",
       "      <th>3</th>\n",
       "      <td>3</td>\n",
       "      <td>New York-Northern New Jersey-Long Island</td>\n",
       "      <td>40.720989</td>\n",
       "      <td>-74.192894</td>\n",
       "      <td>US</td>\n",
       "      <td>2020-03-30T19:00:00-05:00</td>\n",
       "      <td>2020-03-31T00:00:00.000Z</td>\n",
       "      <td>Newark Firehouse</td>\n",
       "      <td>so2</td>\n",
       "      <td>ppm</td>\n",
       "      <td>0.000</td>\n",
       "    </tr>\n",
       "    <tr>\n",
       "      <th>4</th>\n",
       "      <td>4</td>\n",
       "      <td>New York-Northern New Jersey-Long Island</td>\n",
       "      <td>40.787628</td>\n",
       "      <td>-74.676300</td>\n",
       "      <td>US</td>\n",
       "      <td>2020-03-30T19:00:00-05:00</td>\n",
       "      <td>2020-03-31T00:00:00.000Z</td>\n",
       "      <td>Chester</td>\n",
       "      <td>so2</td>\n",
       "      <td>ppm</td>\n",
       "      <td>0.000</td>\n",
       "    </tr>\n",
       "  </tbody>\n",
       "</table>\n",
       "</div>"
      ],
      "text/plain": [
       "   index                                      city  coordinates_latitude  \\\n",
       "0      0  New York-Northern New Jersey-Long Island             40.641441   \n",
       "1      1  New York-Northern New Jersey-Long Island             40.731689   \n",
       "2      2  New York-Northern New Jersey-Long Island             40.670250   \n",
       "3      3  New York-Northern New Jersey-Long Island             40.720989   \n",
       "4      4  New York-Northern New Jersey-Long Island             40.787628   \n",
       "\n",
       "   coordinates_longitude country                 date_local  \\\n",
       "0             -74.208366      US  2020-03-30T19:00:00-05:00   \n",
       "1             -74.066566      US  2020-03-30T19:00:00-05:00   \n",
       "2             -74.126083      US  2020-03-30T19:00:00-05:00   \n",
       "3             -74.192894      US  2020-03-30T19:00:00-05:00   \n",
       "4             -74.676300      US  2020-03-30T19:00:00-05:00   \n",
       "\n",
       "                   date_utc           location parameter unit  value  \n",
       "0  2020-03-31T00:00:00.000Z  Elizabeth Trailer       so2  ppm  0.000  \n",
       "1  2020-03-31T00:00:00.000Z        Jersey City       so2  ppm  0.001  \n",
       "2  2020-03-31T00:00:00.000Z            Bayonne       so2  ppm  0.000  \n",
       "3  2020-03-31T00:00:00.000Z   Newark Firehouse       so2  ppm  0.000  \n",
       "4  2020-03-31T00:00:00.000Z            Chester       so2  ppm  0.000  "
      ]
     },
     "execution_count": 13,
     "metadata": {},
     "output_type": "execute_result"
    }
   ],
   "source": [
    "begin = date(2020,3,1)\n",
    "end = date(2020,3,31)\n",
    "\n",
    "api_string = \"https://api.openaq.org/v1/measurements?city={city}&parameter={measure}&date_from={fromdate}&date_to={todate}&limit=5000\"\n",
    "city = \"New York-Northern New Jersey-Long Island\"\n",
    "measure = \"so2\"\n",
    "\n",
    "response = requests.get(api_string.format(city=city,measure=measure,fromdate=begin,todate=end)).json()\n",
    "response\n",
    "\n",
    "dic_flatten = [flatten(d) for d in response['results']]\n",
    "dic_flatten\n",
    "new_york_3 = pd.DataFrame(dic_flatten).reset_index()\n",
    "new_york_3.head()"
   ]
  },
  {
   "cell_type": "code",
   "execution_count": 14,
   "metadata": {},
   "outputs": [
    {
     "data": {
      "text/html": [
       "<div>\n",
       "<style scoped>\n",
       "    .dataframe tbody tr th:only-of-type {\n",
       "        vertical-align: middle;\n",
       "    }\n",
       "\n",
       "    .dataframe tbody tr th {\n",
       "        vertical-align: top;\n",
       "    }\n",
       "\n",
       "    .dataframe thead th {\n",
       "        text-align: right;\n",
       "    }\n",
       "</style>\n",
       "<table border=\"1\" class=\"dataframe\">\n",
       "  <thead>\n",
       "    <tr style=\"text-align: right;\">\n",
       "      <th></th>\n",
       "      <th>index</th>\n",
       "      <th>city</th>\n",
       "      <th>coordinates_latitude</th>\n",
       "      <th>coordinates_longitude</th>\n",
       "      <th>country</th>\n",
       "      <th>date_local</th>\n",
       "      <th>date_utc</th>\n",
       "      <th>location</th>\n",
       "      <th>parameter</th>\n",
       "      <th>unit</th>\n",
       "      <th>value</th>\n",
       "    </tr>\n",
       "  </thead>\n",
       "  <tbody>\n",
       "    <tr>\n",
       "      <th>0</th>\n",
       "      <td>0</td>\n",
       "      <td>New York-Northern New Jersey-Long Island</td>\n",
       "      <td>40.641441</td>\n",
       "      <td>-74.208366</td>\n",
       "      <td>US</td>\n",
       "      <td>2020-03-30T19:00:00-05:00</td>\n",
       "      <td>2020-03-31T00:00:00.000Z</td>\n",
       "      <td>Elizabeth Trailer</td>\n",
       "      <td>so2</td>\n",
       "      <td>ppm</td>\n",
       "      <td>0.0</td>\n",
       "    </tr>\n",
       "    <tr>\n",
       "      <th>1</th>\n",
       "      <td>1</td>\n",
       "      <td>New York-Northern New Jersey-Long Island</td>\n",
       "      <td>40.731689</td>\n",
       "      <td>-74.066566</td>\n",
       "      <td>US</td>\n",
       "      <td>2020-03-30T19:00:00-05:00</td>\n",
       "      <td>2020-03-31T00:00:00.000Z</td>\n",
       "      <td>Jersey City</td>\n",
       "      <td>so2</td>\n",
       "      <td>ppm</td>\n",
       "      <td>1.0</td>\n",
       "    </tr>\n",
       "    <tr>\n",
       "      <th>2</th>\n",
       "      <td>2</td>\n",
       "      <td>New York-Northern New Jersey-Long Island</td>\n",
       "      <td>40.670250</td>\n",
       "      <td>-74.126083</td>\n",
       "      <td>US</td>\n",
       "      <td>2020-03-30T19:00:00-05:00</td>\n",
       "      <td>2020-03-31T00:00:00.000Z</td>\n",
       "      <td>Bayonne</td>\n",
       "      <td>so2</td>\n",
       "      <td>ppm</td>\n",
       "      <td>0.0</td>\n",
       "    </tr>\n",
       "    <tr>\n",
       "      <th>3</th>\n",
       "      <td>3</td>\n",
       "      <td>New York-Northern New Jersey-Long Island</td>\n",
       "      <td>40.720989</td>\n",
       "      <td>-74.192894</td>\n",
       "      <td>US</td>\n",
       "      <td>2020-03-30T19:00:00-05:00</td>\n",
       "      <td>2020-03-31T00:00:00.000Z</td>\n",
       "      <td>Newark Firehouse</td>\n",
       "      <td>so2</td>\n",
       "      <td>ppm</td>\n",
       "      <td>0.0</td>\n",
       "    </tr>\n",
       "    <tr>\n",
       "      <th>4</th>\n",
       "      <td>4</td>\n",
       "      <td>New York-Northern New Jersey-Long Island</td>\n",
       "      <td>40.787628</td>\n",
       "      <td>-74.676300</td>\n",
       "      <td>US</td>\n",
       "      <td>2020-03-30T19:00:00-05:00</td>\n",
       "      <td>2020-03-31T00:00:00.000Z</td>\n",
       "      <td>Chester</td>\n",
       "      <td>so2</td>\n",
       "      <td>ppm</td>\n",
       "      <td>0.0</td>\n",
       "    </tr>\n",
       "  </tbody>\n",
       "</table>\n",
       "</div>"
      ],
      "text/plain": [
       "   index                                      city  coordinates_latitude  \\\n",
       "0      0  New York-Northern New Jersey-Long Island             40.641441   \n",
       "1      1  New York-Northern New Jersey-Long Island             40.731689   \n",
       "2      2  New York-Northern New Jersey-Long Island             40.670250   \n",
       "3      3  New York-Northern New Jersey-Long Island             40.720989   \n",
       "4      4  New York-Northern New Jersey-Long Island             40.787628   \n",
       "\n",
       "   coordinates_longitude country                 date_local  \\\n",
       "0             -74.208366      US  2020-03-30T19:00:00-05:00   \n",
       "1             -74.066566      US  2020-03-30T19:00:00-05:00   \n",
       "2             -74.126083      US  2020-03-30T19:00:00-05:00   \n",
       "3             -74.192894      US  2020-03-30T19:00:00-05:00   \n",
       "4             -74.676300      US  2020-03-30T19:00:00-05:00   \n",
       "\n",
       "                   date_utc           location parameter unit  value  \n",
       "0  2020-03-31T00:00:00.000Z  Elizabeth Trailer       so2  ppm    0.0  \n",
       "1  2020-03-31T00:00:00.000Z        Jersey City       so2  ppm    1.0  \n",
       "2  2020-03-31T00:00:00.000Z            Bayonne       so2  ppm    0.0  \n",
       "3  2020-03-31T00:00:00.000Z   Newark Firehouse       so2  ppm    0.0  \n",
       "4  2020-03-31T00:00:00.000Z            Chester       so2  ppm    0.0  "
      ]
     },
     "execution_count": 14,
     "metadata": {},
     "output_type": "execute_result"
    }
   ],
   "source": [
    "new_york = pd.concat([new_york_3, new_york_2])\n",
    "new_york.shape\n",
    "new_york = new_york.apply(lambda x: x*1000 if x.name in ['value'] else x)\n",
    "new_york.head()"
   ]
  },
  {
   "cell_type": "code",
   "execution_count": 15,
   "metadata": {},
   "outputs": [],
   "source": [
    "# new_york['unit'] = data['unit'].str.replace('ppm', 'µg/m³')"
   ]
  },
  {
   "cell_type": "markdown",
   "metadata": {},
   "source": [
    "## Concateneting "
   ]
  },
  {
   "cell_type": "code",
   "execution_count": 16,
   "metadata": {},
   "outputs": [
    {
     "name": "stderr",
     "output_type": "stream",
     "text": [
      "C:\\Anaconda3\\lib\\site-packages\\ipykernel_launcher.py:1: FutureWarning: Sorting because non-concatenation axis is not aligned. A future version\n",
      "of pandas will change to not sort by default.\n",
      "\n",
      "To accept the future behavior, pass 'sort=False'.\n",
      "\n",
      "To retain the current behavior and silence the warning, pass 'sort=True'.\n",
      "\n",
      "  \"\"\"Entry point for launching an IPython kernel.\n"
     ]
    }
   ],
   "source": [
    "data = pd.concat([madrid_3,madrid_2, dheli_3, dheli_2, lisbon_3, lisbon_2, santiago_2, santiago_3, new_york])"
   ]
  },
  {
   "cell_type": "code",
   "execution_count": 17,
   "metadata": {},
   "outputs": [
    {
     "data": {
      "text/plain": [
       "(30572, 11)"
      ]
     },
     "execution_count": 17,
     "metadata": {},
     "output_type": "execute_result"
    }
   ],
   "source": [
    "data.shape\n",
    "\n",
    "# data.loc[[city] == 'New York-Northern New Jersey-Long Island']"
   ]
  },
  {
   "cell_type": "code",
   "execution_count": 20,
   "metadata": {},
   "outputs": [],
   "source": [
    "# # saving\n",
    "data.to_csv('data/openaq_so2.csv')"
   ]
  },
  {
   "cell_type": "code",
   "execution_count": null,
   "metadata": {},
   "outputs": [],
   "source": []
  }
 ],
 "metadata": {
  "kernelspec": {
   "display_name": "Python 3",
   "language": "python",
   "name": "python3"
  },
  "language_info": {
   "codemirror_mode": {
    "name": "ipython",
    "version": 3
   },
   "file_extension": ".py",
   "mimetype": "text/x-python",
   "name": "python",
   "nbconvert_exporter": "python",
   "pygments_lexer": "ipython3",
   "version": "3.7.3"
  }
 },
 "nbformat": 4,
 "nbformat_minor": 2
}
