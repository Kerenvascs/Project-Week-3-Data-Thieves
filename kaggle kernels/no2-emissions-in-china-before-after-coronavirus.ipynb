{
 "cells": [
  {
   "cell_type": "markdown",
   "metadata": {},
   "source": [
    "# NO2 emissions in China before / after Coronavirus (COVID-19)\n",
    "* Replicating the analysis from https://www.earthobservatory.nasa.gov/images/146362/airborne-nitrogen-dioxide-plummets-over-china\n",
    "* Using code that was adapted from https://www.kaggle.com/gpoulain/eda-ef-with-n2o-time-series-earth-engine\n",
    "* Using data from the Earth Engine API.  See [tutorial notebook](https://www.kaggle.com/paultimothymooney/how-to-get-started-with-the-earth-engine-data) for more detail.  Note that these plots remain for only 48 hours after the most recent commit due to the limited duration of the secret refresh token.\n",
    "\n",
    "\n",
    "> Motor vehicles are one of the primary sources of NO2 emissions.  \n",
    "> NO2 emissions disperse rapidly after they are created.  \n",
    "> During the coronavirus pandemic there was a reduction in NO2 emissions in China."
   ]
  },
  {
   "cell_type": "markdown",
   "metadata": {},
   "source": [
    "*Step 1: Import Python Modules and Connect to the Earth Engine API*"
   ]
  },
  {
   "cell_type": "code",
   "execution_count": null,
   "metadata": {
    "_kg_hide-input": true,
    "_kg_hide-output": true
   },
   "outputs": [],
   "source": [
    "import numpy as np\n",
    "import pandas as pd\n",
    "import folium\n",
    "from folium import plugins\n",
    "\n",
    "def initMap(lat, lon):\n",
    "    location = [lat, lon]\n",
    "    Map = folium.Map(location=location, zoom_start=5)\n",
    "    return Map\n",
    "\n",
    "def add_ee_layer(self, ee_image_object, vis_params, name):\n",
    "  map_id_dict = ee.Image(ee_image_object).getMapId(vis_params)\n",
    "  folium.raster_layers.TileLayer(\n",
    "    tiles = map_id_dict['tile_fetcher'].url_format,\n",
    "    attr = \"Map Data © Google Earth Engine\",\n",
    "    name = name,\n",
    "    overlay = True,\n",
    "    control = True\n",
    "  ).add_to(self)\n",
    "    \n",
    "folium.Map.add_ee_layer = add_ee_layer\n",
    "\n",
    "# Connect to Earth Engine\n",
    "import ee\n",
    "from kaggle_secrets import UserSecretsClient\n",
    "from google.oauth2.credentials import Credentials\n",
    "\n",
    "# Trigger the authentication flow.\n",
    "#ee.Authenticate()\n",
    "\n",
    "# Retrieve your refresh token.\n",
    "#!cat ~/.config/earthengine/credentials\n",
    "\n",
    "user_secret = \"earth_engine\" # Your user secret, defined in the add-on menu of the notebook editor\n",
    "refresh_token = UserSecretsClient().get_secret(user_secret)\n",
    "credentials = Credentials(\n",
    "        None,\n",
    "        refresh_token=refresh_token,\n",
    "        token_uri=ee.oauth.TOKEN_URI,\n",
    "        client_id=ee.oauth.CLIENT_ID,\n",
    "        client_secret=ee.oauth.CLIENT_SECRET,\n",
    "        scopes=ee.oauth.SCOPES)\n",
    "\n",
    "# Initialize GEE\n",
    "ee.Initialize(credentials=credentials)"
   ]
  },
  {
   "cell_type": "markdown",
   "metadata": {},
   "source": [
    "*Step 2: Plot NO2 emissions from the last two weeks of February 2019*"
   ]
  },
  {
   "cell_type": "code",
   "execution_count": null,
   "metadata": {
    "_kg_hide-input": true
   },
   "outputs": [],
   "source": [
    "## Use this cell to define the collection to see\n",
    "\n",
    "startdate = '2019-02-14'\n",
    "finishdate = '2019-03-01'\n",
    "\n",
    "#Sentinel-5P OFFL NO2: Offline Nitrogen Dioxide\n",
    "ee_s5p_no2 = (ee.ImageCollection('COPERNICUS/S5P/OFFL/L3_NO2')\n",
    "              .select('NO2_column_number_density')\n",
    "              .filterDate(startdate, finishdate)\n",
    "             )\n",
    "band_viz_s5p_no2 = {\n",
    "    'min': 0,\n",
    "    'max': 0.0002,\n",
    "    'palette': ['black', 'blue', 'purple', 'cyan', 'green', 'yellow', 'red']}\n",
    "\n",
    "lat = 30.58333; lon = 114.26667\n",
    "Map = initMap(lat = 30.58333, lon = 114.26667)\n",
    "Map.add_ee_layer(ee_s5p_no2.mean(), band_viz_s5p_no2, 'S5P_NO2')\n",
    "Map.add_child(folium.LayerControl())\n",
    "Map"
   ]
  },
  {
   "cell_type": "markdown",
   "metadata": {},
   "source": [
    "*Step 3: Plot NO2 emissions from the last two weeks of February 2020*"
   ]
  },
  {
   "cell_type": "code",
   "execution_count": null,
   "metadata": {
    "_kg_hide-input": true,
    "_kg_hide-output": false
   },
   "outputs": [],
   "source": [
    "## Use this cell to define the collection to see\n",
    "\n",
    "startdate = '2020-02-14'\n",
    "finishdate = '2020-03-01'\n",
    "\n",
    "#Sentinel-5P OFFL NO2: Offline Nitrogen Dioxide\n",
    "ee_s5p_no2 = (ee.ImageCollection('COPERNICUS/S5P/OFFL/L3_NO2')\n",
    "              .select('NO2_column_number_density')\n",
    "              .filterDate(startdate, finishdate)\n",
    "             )\n",
    "band_viz_s5p_no2 = {\n",
    "    'min': 0,\n",
    "    'max': 0.0002,\n",
    "    'palette': ['black', 'blue', 'purple', 'cyan', 'green', 'yellow', 'red']}\n",
    "\n",
    "lat = 30.58333; lon = 114.26667\n",
    "Map = initMap(lat = 30.58333, lon = 114.26667)\n",
    "Map.add_ee_layer(ee_s5p_no2.mean(), band_viz_s5p_no2, 'S5P_NO2')\n",
    "Map.add_child(folium.LayerControl())\n",
    "Map"
   ]
  }
 ],
 "metadata": {
  "kernelspec": {
   "display_name": "Python 3",
   "language": "python",
   "name": "python3"
  },
  "language_info": {
   "codemirror_mode": {
    "name": "ipython",
    "version": 3
   },
   "file_extension": ".py",
   "mimetype": "text/x-python",
   "name": "python",
   "nbconvert_exporter": "python",
   "pygments_lexer": "ipython3",
   "version": "3.7.3"
  }
 },
 "nbformat": 4,
 "nbformat_minor": 4
}
